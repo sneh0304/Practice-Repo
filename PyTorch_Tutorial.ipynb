{
  "nbformat": 4,
  "nbformat_minor": 0,
  "metadata": {
    "colab": {
      "name": "snehashi_quiz6.ipynb",
      "provenance": [],
      "toc_visible": true
    },
    "kernelspec": {
      "name": "python3",
      "display_name": "Python 3"
    },
    "accelerator": "GPU"
  },
  "cells": [
    {
      "cell_type": "markdown",
      "metadata": {
        "id": "D40T8UZd0eNH"
      },
      "source": [
        "### **CSE 546: Quiz 6 PyTorch Tutorial**"
      ]
    },
    {
      "cell_type": "markdown",
      "metadata": {
        "id": "khPCTQhhC_mm"
      },
      "source": [
        "### Basic Tensor Operations"
      ]
    },
    {
      "cell_type": "code",
      "metadata": {
        "id": "Bqd2oTTF0cnq"
      },
      "source": [
        "import torch"
      ],
      "execution_count": 163,
      "outputs": []
    },
    {
      "cell_type": "code",
      "metadata": {
        "id": "FRW1DneG4uL6",
        "outputId": "fdc81876-40ff-4a1a-f1ef-421931f4d3d3",
        "colab": {
          "base_uri": "https://localhost:8080/",
          "height": 118
        }
      },
      "source": [
        "x = torch.empty(6, 4)\n",
        "print(x)"
      ],
      "execution_count": 164,
      "outputs": [
        {
          "output_type": "stream",
          "text": [
            "tensor([[-8.3313e-38,  0.0000e+00,  7.0065e-44,  6.7262e-44],\n",
            "        [ 6.3058e-44,  6.8664e-44,  6.7262e-44,  6.3058e-44],\n",
            "        [ 6.8664e-44,  7.9874e-44,  1.1771e-43,  7.0065e-44],\n",
            "        [ 6.8664e-44,  8.1275e-44,  7.1466e-44,  7.9874e-44],\n",
            "        [ 8.1275e-44,  7.0065e-44,  6.7262e-44,  6.4460e-44],\n",
            "        [ 7.7071e-44,  7.8473e-44,  7.4269e-44,  7.0065e-44]])\n"
          ],
          "name": "stdout"
        }
      ]
    },
    {
      "cell_type": "code",
      "metadata": {
        "id": "xYzOaDPM42qh",
        "outputId": "68646ae3-87ae-479c-906f-8f5f4be8ef53",
        "colab": {
          "base_uri": "https://localhost:8080/",
          "height": 118
        }
      },
      "source": [
        "x = torch.rand(6, 4)\n",
        "print(x)"
      ],
      "execution_count": 165,
      "outputs": [
        {
          "output_type": "stream",
          "text": [
            "tensor([[0.7956, 0.0584, 0.2323, 0.6302],\n",
            "        [0.9433, 0.9999, 0.6151, 0.4482],\n",
            "        [0.9779, 0.1082, 0.5092, 0.5290],\n",
            "        [0.0566, 0.0027, 0.2071, 0.5917],\n",
            "        [0.9411, 0.4865, 0.2730, 0.7753],\n",
            "        [0.4863, 0.2395, 0.8625, 0.8435]])\n"
          ],
          "name": "stdout"
        }
      ]
    },
    {
      "cell_type": "code",
      "metadata": {
        "id": "mzLM27vU4_ar",
        "outputId": "96b5cbd3-1a8a-4cd3-e1ea-29035bd31cb7",
        "colab": {
          "base_uri": "https://localhost:8080/",
          "height": 118
        }
      },
      "source": [
        "x = torch.zeros(6, 4, dtype = torch.long)\n",
        "print(x)"
      ],
      "execution_count": 166,
      "outputs": [
        {
          "output_type": "stream",
          "text": [
            "tensor([[0, 0, 0, 0],\n",
            "        [0, 0, 0, 0],\n",
            "        [0, 0, 0, 0],\n",
            "        [0, 0, 0, 0],\n",
            "        [0, 0, 0, 0],\n",
            "        [0, 0, 0, 0]])\n"
          ],
          "name": "stdout"
        }
      ]
    },
    {
      "cell_type": "code",
      "metadata": {
        "id": "Z1AxNDcK5NUb",
        "outputId": "bcef2950-bd27-491a-cb83-eeebd91e9a06",
        "colab": {
          "base_uri": "https://localhost:8080/",
          "height": 50
        }
      },
      "source": [
        "x = torch.tensor([[5.5, 3], [1, 4.2]])\n",
        "print(x)"
      ],
      "execution_count": 167,
      "outputs": [
        {
          "output_type": "stream",
          "text": [
            "tensor([[5.5000, 3.0000],\n",
            "        [1.0000, 4.2000]])\n"
          ],
          "name": "stdout"
        }
      ]
    },
    {
      "cell_type": "code",
      "metadata": {
        "id": "MaGKe4K4Err3",
        "outputId": "88814685-e27e-45ee-eb18-e21a777df4b3",
        "colab": {
          "base_uri": "https://localhost:8080/",
          "height": 218
        }
      },
      "source": [
        "x = x.new_ones(6, 4, dtype = torch.double)\n",
        "print(x)\n",
        "\n",
        "x = torch.randn_like(x, dtype = torch.float)\n",
        "print(x)  "
      ],
      "execution_count": 168,
      "outputs": [
        {
          "output_type": "stream",
          "text": [
            "tensor([[1., 1., 1., 1.],\n",
            "        [1., 1., 1., 1.],\n",
            "        [1., 1., 1., 1.],\n",
            "        [1., 1., 1., 1.],\n",
            "        [1., 1., 1., 1.],\n",
            "        [1., 1., 1., 1.]], dtype=torch.float64)\n",
            "tensor([[ 0.0249,  1.0240,  2.0109,  0.6021],\n",
            "        [ 2.9862,  1.3479, -1.4028, -0.5087],\n",
            "        [-0.1732, -0.2146,  0.5454,  0.0285],\n",
            "        [-0.0995, -0.3058, -0.0575,  0.1401],\n",
            "        [ 0.7480,  0.3585, -2.1156, -0.8694],\n",
            "        [ 0.0769, -0.6678, -1.4744,  1.3134]])\n"
          ],
          "name": "stdout"
        }
      ]
    },
    {
      "cell_type": "code",
      "metadata": {
        "id": "ERkd2ayrFQnp",
        "outputId": "dd39eae5-a2ed-466a-cdd9-ca6a42657bac",
        "colab": {
          "base_uri": "https://localhost:8080/",
          "height": 34
        }
      },
      "source": [
        "print(x.size())"
      ],
      "execution_count": 169,
      "outputs": [
        {
          "output_type": "stream",
          "text": [
            "torch.Size([6, 4])\n"
          ],
          "name": "stdout"
        }
      ]
    },
    {
      "cell_type": "code",
      "metadata": {
        "id": "TFDunDVoFYJ8",
        "outputId": "385107a9-83ff-401e-fd56-90c5a0ac02f5",
        "colab": {
          "base_uri": "https://localhost:8080/",
          "height": 118
        }
      },
      "source": [
        "y = torch.rand(6, 4)\n",
        "print(x + y)"
      ],
      "execution_count": 170,
      "outputs": [
        {
          "output_type": "stream",
          "text": [
            "tensor([[ 0.1797,  1.4442,  2.6270,  1.3210],\n",
            "        [ 3.8888,  2.1743, -0.7625, -0.1097],\n",
            "        [ 0.2458,  0.4504,  0.9246,  0.4685],\n",
            "        [ 0.2564,  0.0732,  0.9323,  0.4907],\n",
            "        [ 1.0346,  1.1881, -2.1136, -0.6852],\n",
            "        [ 0.1676, -0.1509, -0.4754,  1.9450]])\n"
          ],
          "name": "stdout"
        }
      ]
    },
    {
      "cell_type": "code",
      "metadata": {
        "id": "JrllJJGiFqjt",
        "outputId": "8e40f23b-699e-4a9b-a058-af6ebeee9e52",
        "colab": {
          "base_uri": "https://localhost:8080/",
          "height": 118
        }
      },
      "source": [
        "print(torch.add(x, y))"
      ],
      "execution_count": 171,
      "outputs": [
        {
          "output_type": "stream",
          "text": [
            "tensor([[ 0.1797,  1.4442,  2.6270,  1.3210],\n",
            "        [ 3.8888,  2.1743, -0.7625, -0.1097],\n",
            "        [ 0.2458,  0.4504,  0.9246,  0.4685],\n",
            "        [ 0.2564,  0.0732,  0.9323,  0.4907],\n",
            "        [ 1.0346,  1.1881, -2.1136, -0.6852],\n",
            "        [ 0.1676, -0.1509, -0.4754,  1.9450]])\n"
          ],
          "name": "stdout"
        }
      ]
    },
    {
      "cell_type": "code",
      "metadata": {
        "id": "dzobQannFxBF",
        "outputId": "798a3976-b9a4-4b59-f47e-2ba95cda1285",
        "colab": {
          "base_uri": "https://localhost:8080/",
          "height": 118
        }
      },
      "source": [
        "result = torch.empty(6, 4)\n",
        "torch.add(x, y, out = result)\n",
        "print(result)"
      ],
      "execution_count": 172,
      "outputs": [
        {
          "output_type": "stream",
          "text": [
            "tensor([[ 0.1797,  1.4442,  2.6270,  1.3210],\n",
            "        [ 3.8888,  2.1743, -0.7625, -0.1097],\n",
            "        [ 0.2458,  0.4504,  0.9246,  0.4685],\n",
            "        [ 0.2564,  0.0732,  0.9323,  0.4907],\n",
            "        [ 1.0346,  1.1881, -2.1136, -0.6852],\n",
            "        [ 0.1676, -0.1509, -0.4754,  1.9450]])\n"
          ],
          "name": "stdout"
        }
      ]
    },
    {
      "cell_type": "code",
      "metadata": {
        "id": "1T_p9MFGGBTR",
        "outputId": "a266e28d-d957-4191-84a9-21b36046955c",
        "colab": {
          "base_uri": "https://localhost:8080/",
          "height": 118
        }
      },
      "source": [
        "y.add_(x)\n",
        "print(y)"
      ],
      "execution_count": 173,
      "outputs": [
        {
          "output_type": "stream",
          "text": [
            "tensor([[ 0.1797,  1.4442,  2.6270,  1.3210],\n",
            "        [ 3.8888,  2.1743, -0.7625, -0.1097],\n",
            "        [ 0.2458,  0.4504,  0.9246,  0.4685],\n",
            "        [ 0.2564,  0.0732,  0.9323,  0.4907],\n",
            "        [ 1.0346,  1.1881, -2.1136, -0.6852],\n",
            "        [ 0.1676, -0.1509, -0.4754,  1.9450]])\n"
          ],
          "name": "stdout"
        }
      ]
    },
    {
      "cell_type": "code",
      "metadata": {
        "id": "zTWhtGp3GIm3",
        "outputId": "b6eb6556-f543-42db-a467-e78bde3501b3",
        "colab": {
          "base_uri": "https://localhost:8080/",
          "height": 34
        }
      },
      "source": [
        "print(x[:, 1])"
      ],
      "execution_count": 174,
      "outputs": [
        {
          "output_type": "stream",
          "text": [
            "tensor([ 1.0240,  1.3479, -0.2146, -0.3058,  0.3585, -0.6678])\n"
          ],
          "name": "stdout"
        }
      ]
    },
    {
      "cell_type": "code",
      "metadata": {
        "id": "ODgjiMRoGiUu",
        "outputId": "5e84555f-c6b4-427d-9949-da83d40e4dc3",
        "colab": {
          "base_uri": "https://localhost:8080/",
          "height": 34
        }
      },
      "source": [
        "x = torch.randn(5, 6)\n",
        "y = x.view(30)\n",
        "z = x.view(-1, 10)\n",
        "print(x.size(), y.size(), z.size())"
      ],
      "execution_count": 175,
      "outputs": [
        {
          "output_type": "stream",
          "text": [
            "torch.Size([5, 6]) torch.Size([30]) torch.Size([3, 10])\n"
          ],
          "name": "stdout"
        }
      ]
    },
    {
      "cell_type": "code",
      "metadata": {
        "id": "2d1Q_P2aHuYE",
        "outputId": "6448b7c6-fe38-44a2-d132-90ff953eb26f",
        "colab": {
          "base_uri": "https://localhost:8080/",
          "height": 50
        }
      },
      "source": [
        "x = torch.randn(1)\n",
        "print(x)\n",
        "print(x.item())"
      ],
      "execution_count": 176,
      "outputs": [
        {
          "output_type": "stream",
          "text": [
            "tensor([1.0475])\n",
            "1.047485589981079\n"
          ],
          "name": "stdout"
        }
      ]
    },
    {
      "cell_type": "code",
      "metadata": {
        "id": "1zSYkqX4H9sf",
        "outputId": "0bd45021-86bc-48e0-e8f8-95721558ec07",
        "colab": {
          "base_uri": "https://localhost:8080/",
          "height": 34
        }
      },
      "source": [
        "a = torch.ones(5)\n",
        "print(a)"
      ],
      "execution_count": 177,
      "outputs": [
        {
          "output_type": "stream",
          "text": [
            "tensor([1., 1., 1., 1., 1.])\n"
          ],
          "name": "stdout"
        }
      ]
    },
    {
      "cell_type": "code",
      "metadata": {
        "id": "y6awOEMyJMIt",
        "outputId": "a0e1cb0f-b2f7-417c-bac8-068af28ec245",
        "colab": {
          "base_uri": "https://localhost:8080/",
          "height": 34
        }
      },
      "source": [
        "b = a.numpy()\n",
        "print(b)"
      ],
      "execution_count": 178,
      "outputs": [
        {
          "output_type": "stream",
          "text": [
            "[1. 1. 1. 1. 1.]\n"
          ],
          "name": "stdout"
        }
      ]
    },
    {
      "cell_type": "code",
      "metadata": {
        "id": "SM43NaggKcLa",
        "outputId": "7d993528-8790-4e76-e1c5-d4ad91181fc8",
        "colab": {
          "base_uri": "https://localhost:8080/",
          "height": 50
        }
      },
      "source": [
        "a.add_(1)\n",
        "print(a)\n",
        "print(b)"
      ],
      "execution_count": 179,
      "outputs": [
        {
          "output_type": "stream",
          "text": [
            "tensor([2., 2., 2., 2., 2.])\n",
            "[2. 2. 2. 2. 2.]\n"
          ],
          "name": "stdout"
        }
      ]
    },
    {
      "cell_type": "code",
      "metadata": {
        "id": "IvLY4xwGKvQB",
        "outputId": "8c6f42a4-6e52-4d60-efe2-7b8cdfeefc15",
        "colab": {
          "base_uri": "https://localhost:8080/",
          "height": 50
        }
      },
      "source": [
        "import numpy as np\n",
        "a = np.ones(10)\n",
        "b = torch.from_numpy(a)\n",
        "np.add(a, 1, out = a)\n",
        "print(a)\n",
        "print(b)"
      ],
      "execution_count": 180,
      "outputs": [
        {
          "output_type": "stream",
          "text": [
            "[2. 2. 2. 2. 2. 2. 2. 2. 2. 2.]\n",
            "tensor([2., 2., 2., 2., 2., 2., 2., 2., 2., 2.], dtype=torch.float64)\n"
          ],
          "name": "stdout"
        }
      ]
    },
    {
      "cell_type": "code",
      "metadata": {
        "id": "wTmgwRvaLly-",
        "outputId": "73ddd7d5-8d2e-49e5-805d-08bc769b5cd4",
        "colab": {
          "base_uri": "https://localhost:8080/",
          "height": 50
        }
      },
      "source": [
        "if torch.cuda.is_available():\n",
        "    device = torch.device(\"cuda\")\n",
        "    y = torch.ones_like(x, device = device)\n",
        "    x = x.to(device)\n",
        "    z = x + y\n",
        "    print(z)\n",
        "    print(z.to(\"cpu\", torch.double))"
      ],
      "execution_count": 181,
      "outputs": [
        {
          "output_type": "stream",
          "text": [
            "tensor([2.0475], device='cuda:0')\n",
            "tensor([2.0475], dtype=torch.float64)\n"
          ],
          "name": "stdout"
        }
      ]
    },
    {
      "cell_type": "code",
      "metadata": {
        "id": "NHocCcSNMNPw",
        "outputId": "94abfe05-d43b-41e2-8ad5-5a3adb1d2474",
        "colab": {
          "base_uri": "https://localhost:8080/",
          "height": 67
        }
      },
      "source": [
        "x = torch.ones(3, 3, requires_grad = True)\n",
        "print(x)"
      ],
      "execution_count": 182,
      "outputs": [
        {
          "output_type": "stream",
          "text": [
            "tensor([[1., 1., 1.],\n",
            "        [1., 1., 1.],\n",
            "        [1., 1., 1.]], requires_grad=True)\n"
          ],
          "name": "stdout"
        }
      ]
    },
    {
      "cell_type": "code",
      "metadata": {
        "id": "_L2OjNvhtYSE",
        "outputId": "86c5ed9e-b3b2-4611-8f3f-b9c345829787",
        "colab": {
          "base_uri": "https://localhost:8080/",
          "height": 67
        }
      },
      "source": [
        "y = x + 2\n",
        "print(y)"
      ],
      "execution_count": 183,
      "outputs": [
        {
          "output_type": "stream",
          "text": [
            "tensor([[3., 3., 3.],\n",
            "        [3., 3., 3.],\n",
            "        [3., 3., 3.]], grad_fn=<AddBackward0>)\n"
          ],
          "name": "stdout"
        }
      ]
    },
    {
      "cell_type": "code",
      "metadata": {
        "id": "kW4W1uhEtZLs",
        "outputId": "c334f7a0-5ac0-4b9f-9a74-87a717e23830",
        "colab": {
          "base_uri": "https://localhost:8080/",
          "height": 50
        }
      },
      "source": [
        "print(y.grad_fn)\n",
        "print(y.requires_grad)"
      ],
      "execution_count": 184,
      "outputs": [
        {
          "output_type": "stream",
          "text": [
            "<AddBackward0 object at 0x7f282a7d0a90>\n",
            "True\n"
          ],
          "name": "stdout"
        }
      ]
    },
    {
      "cell_type": "code",
      "metadata": {
        "id": "-uy_X2KktqeB",
        "outputId": "baf94740-ac15-46e0-ef97-b68304933908",
        "colab": {
          "base_uri": "https://localhost:8080/",
          "height": 67
        }
      },
      "source": [
        "z = y * y * 3\n",
        "out = z.mean()\n",
        "\n",
        "print(z, out)"
      ],
      "execution_count": 185,
      "outputs": [
        {
          "output_type": "stream",
          "text": [
            "tensor([[27., 27., 27.],\n",
            "        [27., 27., 27.],\n",
            "        [27., 27., 27.]], grad_fn=<MulBackward0>) tensor(27., grad_fn=<MeanBackward0>)\n"
          ],
          "name": "stdout"
        }
      ]
    },
    {
      "cell_type": "code",
      "metadata": {
        "id": "aFZg_tUztybF",
        "outputId": "11517051-0c61-4236-c295-e04349c2a4ea",
        "colab": {
          "base_uri": "https://localhost:8080/",
          "height": 67
        }
      },
      "source": [
        "a = torch.randn(3, 3)\n",
        "a = ((a * 3) / (a - 1))\n",
        "print(a.requires_grad)\n",
        "a.requires_grad_(True)\n",
        "print(a.requires_grad)\n",
        "b = (a * a).sum()\n",
        "print(b.grad_fn)"
      ],
      "execution_count": 186,
      "outputs": [
        {
          "output_type": "stream",
          "text": [
            "False\n",
            "True\n",
            "<SumBackward0 object at 0x7f282bba95f8>\n"
          ],
          "name": "stdout"
        }
      ]
    },
    {
      "cell_type": "code",
      "metadata": {
        "id": "UTgsRBGBuOZ8",
        "outputId": "edf3ab63-6dfa-4a5b-e4ef-30596e0ff786",
        "colab": {
          "base_uri": "https://localhost:8080/",
          "height": 67
        }
      },
      "source": [
        "out.backward()\n",
        "print(x.grad)"
      ],
      "execution_count": 187,
      "outputs": [
        {
          "output_type": "stream",
          "text": [
            "tensor([[2., 2., 2.],\n",
            "        [2., 2., 2.],\n",
            "        [2., 2., 2.]])\n"
          ],
          "name": "stdout"
        }
      ]
    },
    {
      "cell_type": "code",
      "metadata": {
        "id": "ojnDQmHTuaUk",
        "outputId": "702a22b0-29f7-45a2-9de5-e15baef35336",
        "colab": {
          "base_uri": "https://localhost:8080/",
          "height": 87
        }
      },
      "source": [
        "print(y.grad)"
      ],
      "execution_count": 188,
      "outputs": [
        {
          "output_type": "stream",
          "text": [
            "None\n"
          ],
          "name": "stdout"
        },
        {
          "output_type": "stream",
          "text": [
            "/usr/local/lib/python3.6/dist-packages/ipykernel_launcher.py:1: UserWarning: The .grad attribute of a Tensor that is not a leaf Tensor is being accessed. Its .grad attribute won't be populated during autograd.backward(). If you indeed want the gradient for a non-leaf Tensor, use .retain_grad() on the non-leaf Tensor. If you access the non-leaf Tensor by mistake, make sure you access the leaf Tensor instead. See github.com/pytorch/pytorch/pull/30531 for more informations.\n",
            "  \"\"\"Entry point for launching an IPython kernel.\n"
          ],
          "name": "stderr"
        }
      ]
    },
    {
      "cell_type": "code",
      "metadata": {
        "id": "usGKEqpguqib",
        "outputId": "3af0b930-5105-45f0-c595-6b64471c8a75",
        "colab": {
          "base_uri": "https://localhost:8080/",
          "height": 34
        }
      },
      "source": [
        "x = torch.randn(4, requires_grad = True)\n",
        "\n",
        "y = x * 2\n",
        "while y.data.norm() < 1000:\n",
        "    y = y * 2\n",
        "\n",
        "print(y)"
      ],
      "execution_count": 189,
      "outputs": [
        {
          "output_type": "stream",
          "text": [
            "tensor([ -87.3444, -525.9200,  355.1389, 1596.8574], grad_fn=<MulBackward0>)\n"
          ],
          "name": "stdout"
        }
      ]
    },
    {
      "cell_type": "code",
      "metadata": {
        "id": "Cn9UYOaPvTsL",
        "outputId": "87162c3e-da4d-4ecb-d7ee-7665a435217b",
        "colab": {
          "base_uri": "https://localhost:8080/",
          "height": 34
        }
      },
      "source": [
        "v = torch.tensor([0.1, 1.0, 0.0001, 10], dtype = torch.float)\n",
        "y.backward(v)\n",
        "\n",
        "print(x.grad)"
      ],
      "execution_count": 190,
      "outputs": [
        {
          "output_type": "stream",
          "text": [
            "tensor([1.0240e+02, 1.0240e+03, 1.0240e-01, 1.0240e+04])\n"
          ],
          "name": "stdout"
        }
      ]
    },
    {
      "cell_type": "code",
      "metadata": {
        "id": "_Pi9YTLHvbYo",
        "outputId": "8e2cd8b3-9d9d-496e-9bed-0d21349a5749",
        "colab": {
          "base_uri": "https://localhost:8080/",
          "height": 67
        }
      },
      "source": [
        "print(x.requires_grad)\n",
        "print((x ** 2).requires_grad)\n",
        "\n",
        "with torch.no_grad():\n",
        "    print((x ** 2).requires_grad)"
      ],
      "execution_count": 191,
      "outputs": [
        {
          "output_type": "stream",
          "text": [
            "True\n",
            "True\n",
            "False\n"
          ],
          "name": "stdout"
        }
      ]
    },
    {
      "cell_type": "code",
      "metadata": {
        "id": "P37PfUk4wAgF",
        "outputId": "1e9b9ab9-9c5c-448d-829f-365309251f67",
        "colab": {
          "base_uri": "https://localhost:8080/",
          "height": 67
        }
      },
      "source": [
        "print(x.requires_grad)\n",
        "y = x.detach()\n",
        "print(y.requires_grad)\n",
        "print(x.eq(y).all())"
      ],
      "execution_count": 192,
      "outputs": [
        {
          "output_type": "stream",
          "text": [
            "True\n",
            "False\n",
            "tensor(True)\n"
          ],
          "name": "stdout"
        }
      ]
    },
    {
      "cell_type": "markdown",
      "metadata": {
        "id": "ZK7VnvUzDQRk"
      },
      "source": [
        "### Neural Network Practice"
      ]
    },
    {
      "cell_type": "code",
      "metadata": {
        "id": "BvuudAhjwEnl",
        "outputId": "afe488ce-99af-4be8-fc54-cb139cdf306e",
        "colab": {
          "base_uri": "https://localhost:8080/",
          "height": 134
        }
      },
      "source": [
        "import torch.nn as nn\n",
        "import torch.nn.functional as F\n",
        "\n",
        "\n",
        "class Net(nn.Module):\n",
        "\n",
        "    def __init__(self):\n",
        "        super(Net, self).__init__()\n",
        "        self.conv1 = nn.Conv2d(1, 8, 3)\n",
        "        self.conv2 = nn.Conv2d(8, 20, 3)\n",
        "        self.fc1 = nn.Linear(20 * 6 * 6, 150)\n",
        "        self.fc2 = nn.Linear(150, 84)\n",
        "        self.fc3 = nn.Linear(84, 10)\n",
        "\n",
        "    def forward(self, x):\n",
        "        x = F.max_pool2d(F.relu(self.conv1(x)), (2, 2))\n",
        "        x = F.max_pool2d(F.relu(self.conv2(x)), 2)\n",
        "        x = x.view(-1, self.num_flat_features(x))\n",
        "        x = F.relu(self.fc1(x))\n",
        "        x = F.relu(self.fc2(x))\n",
        "        x = self.fc3(x)\n",
        "        return x\n",
        "\n",
        "    def num_flat_features(self, x):\n",
        "        size = x.size()[1:]\n",
        "        num_features = 1\n",
        "        for s in size:\n",
        "            num_features *= s\n",
        "        return num_features\n",
        "\n",
        "\n",
        "net = Net()\n",
        "print(net)"
      ],
      "execution_count": 193,
      "outputs": [
        {
          "output_type": "stream",
          "text": [
            "Net(\n",
            "  (conv1): Conv2d(1, 8, kernel_size=(3, 3), stride=(1, 1))\n",
            "  (conv2): Conv2d(8, 20, kernel_size=(3, 3), stride=(1, 1))\n",
            "  (fc1): Linear(in_features=720, out_features=150, bias=True)\n",
            "  (fc2): Linear(in_features=150, out_features=84, bias=True)\n",
            "  (fc3): Linear(in_features=84, out_features=10, bias=True)\n",
            ")\n"
          ],
          "name": "stdout"
        }
      ]
    },
    {
      "cell_type": "code",
      "metadata": {
        "id": "yysYsAMfOhM8",
        "outputId": "4fbc1cbb-c7c3-4b0a-b2ed-8a4fa8135052",
        "colab": {
          "base_uri": "https://localhost:8080/",
          "height": 50
        }
      },
      "source": [
        "params = list(net.parameters())\n",
        "print(len(params))\n",
        "print(params[0].size())"
      ],
      "execution_count": 194,
      "outputs": [
        {
          "output_type": "stream",
          "text": [
            "10\n",
            "torch.Size([8, 1, 3, 3])\n"
          ],
          "name": "stdout"
        }
      ]
    },
    {
      "cell_type": "code",
      "metadata": {
        "id": "fmQpCqiCOkCQ",
        "outputId": "c788e1ed-b0f3-4107-992b-f15aa8366e3d",
        "colab": {
          "base_uri": "https://localhost:8080/",
          "height": 50
        }
      },
      "source": [
        "input = torch.randn(1, 1, 32, 32)\n",
        "out = net(input)\n",
        "print(out)"
      ],
      "execution_count": 195,
      "outputs": [
        {
          "output_type": "stream",
          "text": [
            "tensor([[ 0.0431, -0.0615, -0.1288,  0.1063, -0.0386,  0.1097, -0.0696, -0.0313,\n",
            "          0.1711, -0.1085]], grad_fn=<AddmmBackward>)\n"
          ],
          "name": "stdout"
        }
      ]
    },
    {
      "cell_type": "code",
      "metadata": {
        "id": "mF6soJxoOlCl"
      },
      "source": [
        "net.zero_grad()\n",
        "out.backward(torch.randn(1, 10))"
      ],
      "execution_count": 196,
      "outputs": []
    },
    {
      "cell_type": "code",
      "metadata": {
        "id": "WiBmROdUZwGE",
        "outputId": "b6cc627c-235e-4709-fb54-8a79a4e29f0a",
        "colab": {
          "base_uri": "https://localhost:8080/",
          "height": 34
        }
      },
      "source": [
        "output = net(input)\n",
        "target = torch.randn(10)\n",
        "target = target.view(1, -1)\n",
        "criterion = nn.MSELoss()\n",
        "\n",
        "loss = criterion(output, target)\n",
        "print(loss) "
      ],
      "execution_count": 197,
      "outputs": [
        {
          "output_type": "stream",
          "text": [
            "tensor(1.1632, grad_fn=<MseLossBackward>)\n"
          ],
          "name": "stdout"
        }
      ]
    },
    {
      "cell_type": "code",
      "metadata": {
        "id": "-pz-CBUva7Oi",
        "outputId": "49655011-8a95-47d4-9dc7-2af2b72ee7f1",
        "colab": {
          "base_uri": "https://localhost:8080/",
          "height": 67
        }
      },
      "source": [
        "print(loss.grad_fn)\n",
        "print(loss.grad_fn.next_functions[0][0])\n",
        "print(loss.grad_fn.next_functions[0][0].next_functions[0][0])"
      ],
      "execution_count": 198,
      "outputs": [
        {
          "output_type": "stream",
          "text": [
            "<MseLossBackward object at 0x7f282bba95c0>\n",
            "<AddmmBackward object at 0x7f282bba9080>\n",
            "<AccumulateGrad object at 0x7f282bba95c0>\n"
          ],
          "name": "stdout"
        }
      ]
    },
    {
      "cell_type": "code",
      "metadata": {
        "id": "WlzPfQ6TbA4T",
        "outputId": "8c6864d4-559f-405b-92d4-59f5286b9257",
        "colab": {
          "base_uri": "https://localhost:8080/",
          "height": 84
        }
      },
      "source": [
        "net.zero_grad()\n",
        "\n",
        "print('conv1.bias.grad before backward')\n",
        "print(net.conv1.bias.grad)\n",
        "\n",
        "loss.backward()\n",
        "\n",
        "print('conv1.bias.grad after backward')\n",
        "print(net.conv1.bias.grad)"
      ],
      "execution_count": 199,
      "outputs": [
        {
          "output_type": "stream",
          "text": [
            "conv1.bias.grad before backward\n",
            "tensor([0., 0., 0., 0., 0., 0., 0., 0.])\n",
            "conv1.bias.grad after backward\n",
            "tensor([-0.0067, -0.0011, -0.0103,  0.0002, -0.0049,  0.0102, -0.0193, -0.0041])\n"
          ],
          "name": "stdout"
        }
      ]
    },
    {
      "cell_type": "code",
      "metadata": {
        "id": "CJkwSoNlbFjH"
      },
      "source": [
        "learning_rate = 0.01\n",
        "for f in net.parameters():\n",
        "    f.data.sub_(f.grad.data * learning_rate)"
      ],
      "execution_count": 200,
      "outputs": []
    },
    {
      "cell_type": "code",
      "metadata": {
        "id": "_rnRqWRkbcqO"
      },
      "source": [
        "import torch.optim as optim\n",
        "\n",
        "optimizer = optim.SGD(net.parameters(), lr = 0.01)\n",
        "\n",
        "optimizer.zero_grad()\n",
        "output = net(input)\n",
        "loss = criterion(output, target)\n",
        "loss.backward()\n",
        "optimizer.step()"
      ],
      "execution_count": 201,
      "outputs": []
    },
    {
      "cell_type": "markdown",
      "metadata": {
        "id": "07PBiGhuFIka"
      },
      "source": [
        "### 3 Different Neural Nets"
      ]
    },
    {
      "cell_type": "code",
      "metadata": {
        "id": "o1gnc7mgEVBm",
        "outputId": "ff6f7e14-6902-4ac3-f507-c3a89093cc99",
        "colab": {
          "base_uri": "https://localhost:8080/",
          "height": 50
        }
      },
      "source": [
        "import torchvision\n",
        "import torchvision.transforms as transforms\n",
        "\n",
        "transform = transforms.Compose([transforms.ToTensor(), transforms.Normalize((0.5, 0.5, 0.5), (0.5, 0.5, 0.5))])\n",
        "\n",
        "trainset = torchvision.datasets.CIFAR10(root = './data', train = True, download = True, transform = transform)\n",
        "trainloader = torch.utils.data.DataLoader(trainset, batch_size = 4, shuffle = True, num_workers = 2)\n",
        "\n",
        "testset = torchvision.datasets.CIFAR10(root = './data', train = False, download = True, transform = transform)\n",
        "testloader = torch.utils.data.DataLoader(testset, batch_size = 4, shuffle = False, num_workers = 2)\n",
        "\n",
        "classes = ('plane', 'car', 'bird', 'cat', 'deer', 'dog', 'frog', 'horse', 'ship', 'truck')"
      ],
      "execution_count": 202,
      "outputs": [
        {
          "output_type": "stream",
          "text": [
            "Files already downloaded and verified\n",
            "Files already downloaded and verified\n"
          ],
          "name": "stdout"
        }
      ]
    },
    {
      "cell_type": "code",
      "metadata": {
        "id": "0Syq9GTHHB1b",
        "outputId": "927457c8-c4a4-45a8-f661-25dec2663ba6",
        "colab": {
          "base_uri": "https://localhost:8080/",
          "height": 155
        }
      },
      "source": [
        "import matplotlib.pyplot as plt\n",
        "import numpy as np\n",
        "\n",
        "def imshow(img):\n",
        "    img = img / 2 + 0.5\n",
        "    npimg = img.numpy()\n",
        "    plt.imshow(np.transpose(npimg, (1, 2, 0)))\n",
        "    plt.show()\n",
        "\n",
        "\n",
        "# get some random training images\n",
        "dataiter = iter(trainloader)\n",
        "images, labels = dataiter.next()\n",
        "\n",
        "# show images\n",
        "imshow(torchvision.utils.make_grid(images))\n",
        "# print labels\n",
        "print(' '.join('%5s' % classes[labels[j]] for j in range(4)))\n"
      ],
      "execution_count": 203,
      "outputs": [
        {
          "output_type": "display_data",
          "data": {
            "image/png": "[encoded data removed]",
            "text/plain": [
              "<Figure size 432x288 with 1 Axes>"
            ]
          },
          "metadata": {
            "tags": [],
            "needs_background": "light"
          }
        },
        {
          "output_type": "stream",
          "text": [
            "horse truck   cat  bird\n"
          ],
          "name": "stdout"
        }
      ]
    },
    {
      "cell_type": "code",
      "metadata": {
        "id": "aYqpHSFiHw-w"
      },
      "source": [
        "class Net(nn.Module):\n",
        "    def __init__(self):\n",
        "        super(Net, self).__init__()\n",
        "        self.conv1 = nn.Conv2d(3, 8, 5)\n",
        "        self.pool = nn.MaxPool2d(2, 2)\n",
        "        self.conv2 = nn.Conv2d(8, 20, 5)\n",
        "        self.fc1 = nn.Linear(20 * 5 * 5, 150)\n",
        "        self.fc2 = nn.Linear(150, 84)\n",
        "        self.fc3 = nn.Linear(84, 10)\n",
        "\n",
        "    def forward(self, x):\n",
        "        x = self.pool(F.relu(self.conv1(x)))\n",
        "        x = self.pool(F.relu(self.conv2(x)))\n",
        "        x = x.view(-1, 20 * 5 * 5)\n",
        "        x = F.relu(self.fc1(x))\n",
        "        x = F.relu(self.fc2(x))\n",
        "        x = self.fc3(x)\n",
        "        return x\n",
        "\n",
        "\n",
        "net = Net()"
      ],
      "execution_count": 204,
      "outputs": []
    },
    {
      "cell_type": "code",
      "metadata": {
        "id": "R_94ojssL7Zr",
        "outputId": "8b5c378d-9c19-49f5-d9df-17b8298e8ee3",
        "colab": {
          "base_uri": "https://localhost:8080/",
          "height": 168
        }
      },
      "source": [
        "device = torch.device(\"cuda:0\" if torch.cuda.is_available() else \"cpu\")\n",
        "\n",
        "print(device)\n",
        "net.to(device)"
      ],
      "execution_count": 205,
      "outputs": [
        {
          "output_type": "stream",
          "text": [
            "cuda:0\n"
          ],
          "name": "stdout"
        },
        {
          "output_type": "execute_result",
          "data": {
            "text/plain": [
              "Net(\n",
              "  (conv1): Conv2d(3, 8, kernel_size=(5, 5), stride=(1, 1))\n",
              "  (pool): MaxPool2d(kernel_size=2, stride=2, padding=0, dilation=1, ceil_mode=False)\n",
              "  (conv2): Conv2d(8, 20, kernel_size=(5, 5), stride=(1, 1))\n",
              "  (fc1): Linear(in_features=500, out_features=150, bias=True)\n",
              "  (fc2): Linear(in_features=150, out_features=84, bias=True)\n",
              "  (fc3): Linear(in_features=84, out_features=10, bias=True)\n",
              ")"
            ]
          },
          "metadata": {
            "tags": []
          },
          "execution_count": 205
        }
      ]
    },
    {
      "cell_type": "code",
      "metadata": {
        "id": "AKRBiOehJYX3"
      },
      "source": [
        "criterion = nn.CrossEntropyLoss()\n",
        "optimizer = optim.SGD(net.parameters(), lr = 0.001, momentum = 0.9)"
      ],
      "execution_count": 206,
      "outputs": []
    },
    {
      "cell_type": "code",
      "metadata": {
        "id": "9bQfLaFSJZI7",
        "outputId": "3ad08f55-85fd-4a9a-f155-21170409f74d",
        "colab": {
          "base_uri": "https://localhost:8080/",
          "height": 1000
        }
      },
      "source": [
        "training_loss = []\n",
        "for epoch in range(10):\n",
        "    running_loss = 0.0\n",
        "    loss = 0.0\n",
        "    for i, data in enumerate(trainloader, 0):\n",
        "        inputs, labels = data[0].to(device), data[1].to(device)\n",
        "\n",
        "        # zero the parameter gradients\n",
        "        optimizer.zero_grad()\n",
        "\n",
        "        # forward + backward + optimize\n",
        "        outputs = net(inputs)\n",
        "        loss = criterion(outputs, labels)\n",
        "        loss.backward()\n",
        "        optimizer.step()\n",
        "\n",
        "        running_loss += loss.item()\n",
        "        if i % 2000 == 1999:\n",
        "            print('[%d, %5d] loss: %.3f' %(epoch + 1, i + 1, running_loss / 2000))\n",
        "            loss += running_loss\n",
        "            running_loss = 0.0\n",
        "    training_loss.append(loss / len(trainloader))\n",
        "print('Finished Training')"
      ],
      "execution_count": 207,
      "outputs": [
        {
          "output_type": "stream",
          "text": [
            "[1,  2000] loss: 2.219\n",
            "[1,  4000] loss: 1.839\n",
            "[1,  6000] loss: 1.649\n",
            "[1,  8000] loss: 1.555\n",
            "[1, 10000] loss: 1.506\n",
            "[1, 12000] loss: 1.450\n",
            "[2,  2000] loss: 1.392\n",
            "[2,  4000] loss: 1.323\n",
            "[2,  6000] loss: 1.316\n",
            "[2,  8000] loss: 1.273\n",
            "[2, 10000] loss: 1.233\n",
            "[2, 12000] loss: 1.236\n",
            "[3,  2000] loss: 1.141\n",
            "[3,  4000] loss: 1.158\n",
            "[3,  6000] loss: 1.142\n",
            "[3,  8000] loss: 1.117\n",
            "[3, 10000] loss: 1.131\n",
            "[3, 12000] loss: 1.096\n",
            "[4,  2000] loss: 1.026\n",
            "[4,  4000] loss: 1.026\n",
            "[4,  6000] loss: 1.024\n",
            "[4,  8000] loss: 1.022\n",
            "[4, 10000] loss: 1.001\n",
            "[4, 12000] loss: 1.010\n",
            "[5,  2000] loss: 0.933\n",
            "[5,  4000] loss: 0.933\n",
            "[5,  6000] loss: 0.954\n",
            "[5,  8000] loss: 0.948\n",
            "[5, 10000] loss: 0.945\n",
            "[5, 12000] loss: 0.952\n",
            "[6,  2000] loss: 0.848\n",
            "[6,  4000] loss: 0.865\n",
            "[6,  6000] loss: 0.890\n",
            "[6,  8000] loss: 0.905\n",
            "[6, 10000] loss: 0.883\n",
            "[6, 12000] loss: 0.900\n",
            "[7,  2000] loss: 0.774\n",
            "[7,  4000] loss: 0.809\n",
            "[7,  6000] loss: 0.846\n",
            "[7,  8000] loss: 0.825\n",
            "[7, 10000] loss: 0.833\n",
            "[7, 12000] loss: 0.854\n",
            "[8,  2000] loss: 0.728\n",
            "[8,  4000] loss: 0.744\n",
            "[8,  6000] loss: 0.765\n",
            "[8,  8000] loss: 0.777\n",
            "[8, 10000] loss: 0.813\n",
            "[8, 12000] loss: 0.804\n",
            "[9,  2000] loss: 0.670\n",
            "[9,  4000] loss: 0.711\n",
            "[9,  6000] loss: 0.732\n",
            "[9,  8000] loss: 0.768\n",
            "[9, 10000] loss: 0.760\n",
            "[9, 12000] loss: 0.779\n",
            "[10,  2000] loss: 0.643\n",
            "[10,  4000] loss: 0.664\n",
            "[10,  6000] loss: 0.706\n",
            "[10,  8000] loss: 0.715\n",
            "[10, 10000] loss: 0.735\n",
            "[10, 12000] loss: 0.735\n",
            "Finished Training\n"
          ],
          "name": "stdout"
        }
      ]
    },
    {
      "cell_type": "code",
      "metadata": {
        "id": "LAdIG0AsKYfe",
        "outputId": "3bfc06e9-2a47-4dca-89c4-f244d311ad84",
        "colab": {
          "base_uri": "https://localhost:8080/",
          "height": 283
        }
      },
      "source": [
        "plt.plot(training_loss, label = 'Training Loss')"
      ],
      "execution_count": 208,
      "outputs": [
        {
          "output_type": "execute_result",
          "data": {
            "text/plain": [
              "[<matplotlib.lines.Line2D at 0x7f2872d3d9e8>]"
            ]
          },
          "metadata": {
            "tags": []
          },
          "execution_count": 208
        },
        {
          "output_type": "display_data",
          "data": {
            "image/png": "[encoded data removed]",
            "text/plain": [
              "<Figure size 432x288 with 1 Axes>"
            ]
          },
          "metadata": {
            "tags": [],
            "needs_background": "light"
          }
        }
      ]
    },
    {
      "cell_type": "code",
      "metadata": {
        "id": "T-MstPhkPLjC",
        "outputId": "9f030c08-0d2a-4114-961e-32b943457ec2",
        "colab": {
          "base_uri": "https://localhost:8080/",
          "height": 34
        }
      },
      "source": [
        "total = 0\n",
        "correct = 0\n",
        "with torch.no_grad():\n",
        "    for data in testloader:\n",
        "        images, labels = data[0].to(device), data[1].to(device)\n",
        "        outputs = net(images)\n",
        "        _, predicted = torch.max(outputs.data, 1)\n",
        "        total += labels.size(0)\n",
        "        correct += (predicted == labels).sum().item()\n",
        "\n",
        "print('Accuracy of the network on the 10000 test images: %d %%' % (100 * correct / total))"
      ],
      "execution_count": 209,
      "outputs": [
        {
          "output_type": "stream",
          "text": [
            "Accuracy of the network on the 10000 test images: 64 %\n"
          ],
          "name": "stdout"
        }
      ]
    },
    {
      "cell_type": "code",
      "metadata": {
        "id": "Iq1DEzH5Qbe0",
        "outputId": "543cdf02-514b-4d45-d3b9-233b2ea1f13b",
        "colab": {
          "base_uri": "https://localhost:8080/",
          "height": 185
        }
      },
      "source": [
        "class_correct = list(0. for i in range(10))\n",
        "class_total = list(0. for i in range(10))\n",
        "with torch.no_grad():\n",
        "    for data in testloader:\n",
        "        images, labels = data[0].to(device), data[1].to(device)\n",
        "        outputs = net(images)\n",
        "        _, predicted = torch.max(outputs, 1)\n",
        "        c = (predicted == labels).squeeze()\n",
        "        for i in range(4):\n",
        "            label = labels[i]\n",
        "            class_correct[label] += c[i].item()\n",
        "            class_total[label] += 1\n",
        "\n",
        "for i in range(10):\n",
        "    print('Accuracy of %5s : %2d %%' % (classes[i], 100 * class_correct[i] / class_total[i]))"
      ],
      "execution_count": 210,
      "outputs": [
        {
          "output_type": "stream",
          "text": [
            "Accuracy of plane : 74 %\n",
            "Accuracy of   car : 71 %\n",
            "Accuracy of  bird : 56 %\n",
            "Accuracy of   cat : 41 %\n",
            "Accuracy of  deer : 62 %\n",
            "Accuracy of   dog : 42 %\n",
            "Accuracy of  frog : 73 %\n",
            "Accuracy of horse : 66 %\n",
            "Accuracy of  ship : 77 %\n",
            "Accuracy of truck : 74 %\n"
          ],
          "name": "stdout"
        }
      ]
    },
    {
      "cell_type": "markdown",
      "metadata": {
        "id": "TyzVHgk-Tg5Z"
      },
      "source": [
        "### With Different optimizer"
      ]
    },
    {
      "cell_type": "code",
      "metadata": {
        "id": "7lokdDMER__a"
      },
      "source": [
        "net1 = Net()\n",
        "net1.to(device)\n",
        "criterion = nn.CrossEntropyLoss()\n",
        "optimizer = optim.Adam(net1.parameters(), lr = 0.0001)"
      ],
      "execution_count": 211,
      "outputs": []
    },
    {
      "cell_type": "code",
      "metadata": {
        "id": "ESF_R383UCL4",
        "outputId": "4bb2310a-59e8-4936-cf82-508667d747b1",
        "colab": {
          "base_uri": "https://localhost:8080/",
          "height": 1000
        }
      },
      "source": [
        "training_loss = []\n",
        "for epoch in range(10):\n",
        "    running_loss = 0.0\n",
        "    loss = 0.0\n",
        "    for i, data in enumerate(trainloader, 0):\n",
        "        inputs, labels = data[0].to(device), data[1].to(device)\n",
        "\n",
        "        # zero the parameter gradients\n",
        "        optimizer.zero_grad()\n",
        "\n",
        "        # forward + backward + optimize\n",
        "        outputs = net1(inputs)\n",
        "        loss = criterion(outputs, labels)\n",
        "        loss.backward()\n",
        "        optimizer.step()\n",
        "\n",
        "        running_loss += loss.item()\n",
        "        if i % 2000 == 1999:\n",
        "            print('[%d, %5d] loss: %.3f' %(epoch + 1, i + 1, running_loss / 2000))\n",
        "            loss += running_loss\n",
        "            running_loss = 0.0\n",
        "    training_loss.append(loss / len(trainloader))\n",
        "print('Finished Training')"
      ],
      "execution_count": 212,
      "outputs": [
        {
          "output_type": "stream",
          "text": [
            "[1,  2000] loss: 2.003\n",
            "[1,  4000] loss: 1.766\n",
            "[1,  6000] loss: 1.666\n",
            "[1,  8000] loss: 1.615\n",
            "[1, 10000] loss: 1.571\n",
            "[1, 12000] loss: 1.527\n",
            "[2,  2000] loss: 1.485\n",
            "[2,  4000] loss: 1.467\n",
            "[2,  6000] loss: 1.442\n",
            "[2,  8000] loss: 1.425\n",
            "[2, 10000] loss: 1.404\n",
            "[2, 12000] loss: 1.395\n",
            "[3,  2000] loss: 1.348\n",
            "[3,  4000] loss: 1.335\n",
            "[3,  6000] loss: 1.324\n",
            "[3,  8000] loss: 1.306\n",
            "[3, 10000] loss: 1.294\n",
            "[3, 12000] loss: 1.291\n",
            "[4,  2000] loss: 1.250\n",
            "[4,  4000] loss: 1.236\n",
            "[4,  6000] loss: 1.233\n",
            "[4,  8000] loss: 1.236\n",
            "[4, 10000] loss: 1.212\n",
            "[4, 12000] loss: 1.215\n",
            "[5,  2000] loss: 1.170\n",
            "[5,  4000] loss: 1.173\n",
            "[5,  6000] loss: 1.164\n",
            "[5,  8000] loss: 1.160\n",
            "[5, 10000] loss: 1.145\n",
            "[5, 12000] loss: 1.149\n",
            "[6,  2000] loss: 1.115\n",
            "[6,  4000] loss: 1.113\n",
            "[6,  6000] loss: 1.112\n",
            "[6,  8000] loss: 1.103\n",
            "[6, 10000] loss: 1.098\n",
            "[6, 12000] loss: 1.098\n",
            "[7,  2000] loss: 1.054\n",
            "[7,  4000] loss: 1.065\n",
            "[7,  6000] loss: 1.056\n",
            "[7,  8000] loss: 1.058\n",
            "[7, 10000] loss: 1.050\n",
            "[7, 12000] loss: 1.054\n",
            "[8,  2000] loss: 1.012\n",
            "[8,  4000] loss: 0.997\n",
            "[8,  6000] loss: 1.022\n",
            "[8,  8000] loss: 1.027\n",
            "[8, 10000] loss: 1.014\n",
            "[8, 12000] loss: 1.018\n",
            "[9,  2000] loss: 0.976\n",
            "[9,  4000] loss: 0.988\n",
            "[9,  6000] loss: 0.988\n",
            "[9,  8000] loss: 0.983\n",
            "[9, 10000] loss: 0.960\n",
            "[9, 12000] loss: 0.962\n",
            "[10,  2000] loss: 0.949\n",
            "[10,  4000] loss: 0.937\n",
            "[10,  6000] loss: 0.954\n",
            "[10,  8000] loss: 0.929\n",
            "[10, 10000] loss: 0.937\n",
            "[10, 12000] loss: 0.942\n",
            "Finished Training\n"
          ],
          "name": "stdout"
        }
      ]
    },
    {
      "cell_type": "code",
      "metadata": {
        "id": "NdIpmzJYcidG",
        "outputId": "4c7466a2-4641-4947-e5a2-2c0e7a81dbef",
        "colab": {
          "base_uri": "https://localhost:8080/",
          "height": 282
        }
      },
      "source": [
        "plt.plot(training_loss, label = 'Training Loss')"
      ],
      "execution_count": 213,
      "outputs": [
        {
          "output_type": "execute_result",
          "data": {
            "text/plain": [
              "[<matplotlib.lines.Line2D at 0x7f28282be358>]"
            ]
          },
          "metadata": {
            "tags": []
          },
          "execution_count": 213
        },
        {
          "output_type": "display_data",
          "data": {
            "image/png": "[encoded data removed]",
            "text/plain": [
              "<Figure size 432x288 with 1 Axes>"
            ]
          },
          "metadata": {
            "tags": [],
            "needs_background": "light"
          }
        }
      ]
    },
    {
      "cell_type": "code",
      "metadata": {
        "id": "DLKgNudBcidW",
        "outputId": "e09e0bf1-0e6f-49b3-91e7-45936f1dae9f",
        "colab": {
          "base_uri": "https://localhost:8080/",
          "height": 34
        }
      },
      "source": [
        "total = 0\n",
        "correct = 0\n",
        "with torch.no_grad():\n",
        "    for data in testloader:\n",
        "        images, labels = data[0].to(device), data[1].to(device)\n",
        "        outputs = net1(images)\n",
        "        _, predicted = torch.max(outputs.data, 1)\n",
        "        total += labels.size(0)\n",
        "        correct += (predicted == labels).sum().item()\n",
        "\n",
        "print('Accuracy of the network on the 10000 test images: %d %%' % (100 * correct / total))"
      ],
      "execution_count": 214,
      "outputs": [
        {
          "output_type": "stream",
          "text": [
            "Accuracy of the network on the 10000 test images: 63 %\n"
          ],
          "name": "stdout"
        }
      ]
    },
    {
      "cell_type": "code",
      "metadata": {
        "id": "NtyLVKSmcidg",
        "outputId": "f5600bf5-c079-4988-d51a-a420ab928ab8",
        "colab": {
          "base_uri": "https://localhost:8080/",
          "height": 185
        }
      },
      "source": [
        "class_correct = list(0. for i in range(10))\n",
        "class_total = list(0. for i in range(10))\n",
        "with torch.no_grad():\n",
        "    for data in testloader:\n",
        "        images, labels = data[0].to(device), data[1].to(device)\n",
        "        outputs = net1(images)\n",
        "        _, predicted = torch.max(outputs, 1)\n",
        "        c = (predicted == labels).squeeze()\n",
        "        for i in range(4):\n",
        "            label = labels[i]\n",
        "            class_correct[label] += c[i].item()\n",
        "            class_total[label] += 1\n",
        "\n",
        "for i in range(10):\n",
        "    print('Accuracy of %5s : %2d %%' % (classes[i], 100 * class_correct[i] / class_total[i]))"
      ],
      "execution_count": 215,
      "outputs": [
        {
          "output_type": "stream",
          "text": [
            "Accuracy of plane : 71 %\n",
            "Accuracy of   car : 71 %\n",
            "Accuracy of  bird : 45 %\n",
            "Accuracy of   cat : 45 %\n",
            "Accuracy of  deer : 49 %\n",
            "Accuracy of   dog : 49 %\n",
            "Accuracy of  frog : 73 %\n",
            "Accuracy of horse : 80 %\n",
            "Accuracy of  ship : 74 %\n",
            "Accuracy of truck : 73 %\n"
          ],
          "name": "stdout"
        }
      ]
    },
    {
      "cell_type": "markdown",
      "metadata": {
        "id": "rj0N-twpcl31"
      },
      "source": [
        "### Different Architecture"
      ]
    },
    {
      "cell_type": "code",
      "metadata": {
        "id": "EJfYPqsoc4zQ",
        "outputId": "0537bf12-8a2f-49c1-a77c-e44e4ed366c4",
        "colab": {
          "base_uri": "https://localhost:8080/",
          "height": 185
        }
      },
      "source": [
        "class NeuralNet(nn.Module):\n",
        "    def __init__(self):\n",
        "        super(NeuralNet, self).__init__()\n",
        "        self.conv1 = nn.Conv2d(3, 8, 5)\n",
        "        self.pool = nn.MaxPool2d(2, 2)\n",
        "        self.conv2 = nn.Conv2d(8, 20, 5)\n",
        "        self.conv3 = nn.Conv2d(20, 32, 3, padding = 1)\n",
        "        self.batchnorm = nn.BatchNorm2d(32)\n",
        "        self.fc1 = nn.Linear(32 * 5 * 5, 256)\n",
        "        self.fc2 = nn.Linear(256, 84)\n",
        "        self.fc3 = nn.Linear(84, 10)\n",
        "\n",
        "    def forward(self, x):\n",
        "        x = self.pool(F.elu(self.conv1(x)))\n",
        "        x = self.pool(F.elu(self.conv2(x)))\n",
        "        x = F.elu(self.conv3(x))\n",
        "        x = self.batchnorm(x)\n",
        "        x = x.view(-1, 32 * 5 * 5)\n",
        "        x = F.elu(self.fc1(x))\n",
        "        x = F.relu(self.fc2(x))\n",
        "        x = self.fc3(x)\n",
        "        return x\n",
        "\n",
        "net2 = NeuralNet()\n",
        "print(net2)"
      ],
      "execution_count": 216,
      "outputs": [
        {
          "output_type": "stream",
          "text": [
            "NeuralNet(\n",
            "  (conv1): Conv2d(3, 8, kernel_size=(5, 5), stride=(1, 1))\n",
            "  (pool): MaxPool2d(kernel_size=2, stride=2, padding=0, dilation=1, ceil_mode=False)\n",
            "  (conv2): Conv2d(8, 20, kernel_size=(5, 5), stride=(1, 1))\n",
            "  (conv3): Conv2d(20, 32, kernel_size=(3, 3), stride=(1, 1), padding=(1, 1))\n",
            "  (batchnorm): BatchNorm2d(32, eps=1e-05, momentum=0.1, affine=True, track_running_stats=True)\n",
            "  (fc1): Linear(in_features=800, out_features=256, bias=True)\n",
            "  (fc2): Linear(in_features=256, out_features=84, bias=True)\n",
            "  (fc3): Linear(in_features=84, out_features=10, bias=True)\n",
            ")\n"
          ],
          "name": "stdout"
        }
      ]
    },
    {
      "cell_type": "code",
      "metadata": {
        "id": "6sroQOU6UhEl"
      },
      "source": [
        "net2.to(device)\n",
        "criterion = nn.CrossEntropyLoss()\n",
        "optimizer = optim.Adam(net2.parameters(), lr = 0.001)"
      ],
      "execution_count": 217,
      "outputs": []
    },
    {
      "cell_type": "code",
      "metadata": {
        "id": "_lmUgMdagwTW",
        "outputId": "97e536e1-627c-46c2-f68a-c83af990e72d",
        "colab": {
          "base_uri": "https://localhost:8080/",
          "height": 1000
        }
      },
      "source": [
        "training_loss = []\n",
        "for epoch in range(10):\n",
        "    running_loss = 0.0\n",
        "    loss = 0.0\n",
        "    for i, data in enumerate(trainloader, 0):\n",
        "        inputs, labels = data[0].to(device), data[1].to(device)\n",
        "\n",
        "        # zero the parameter gradients\n",
        "        optimizer.zero_grad()\n",
        "\n",
        "        # forward + backward + optimize\n",
        "        outputs = net2(inputs)\n",
        "        loss = criterion(outputs, labels)\n",
        "        loss.backward()\n",
        "        optimizer.step()\n",
        "\n",
        "        running_loss += loss.item()\n",
        "        if i % 2000 == 1999:\n",
        "            print('[%d, %5d] loss: %.3f' %(epoch + 1, i + 1, running_loss / 2000))\n",
        "            loss += running_loss\n",
        "            running_loss = 0.0\n",
        "    training_loss.append(loss / len(trainloader))\n",
        "print('Finished Training')"
      ],
      "execution_count": 218,
      "outputs": [
        {
          "output_type": "stream",
          "text": [
            "[1,  2000] loss: 1.844\n",
            "[1,  4000] loss: 1.643\n",
            "[1,  6000] loss: 1.503\n",
            "[1,  8000] loss: 1.433\n",
            "[1, 10000] loss: 1.385\n",
            "[1, 12000] loss: 1.332\n",
            "[2,  2000] loss: 1.236\n",
            "[2,  4000] loss: 1.247\n",
            "[2,  6000] loss: 1.219\n",
            "[2,  8000] loss: 1.179\n",
            "[2, 10000] loss: 1.178\n",
            "[2, 12000] loss: 1.178\n",
            "[3,  2000] loss: 1.049\n",
            "[3,  4000] loss: 1.069\n",
            "[3,  6000] loss: 1.029\n",
            "[3,  8000] loss: 1.030\n",
            "[3, 10000] loss: 1.043\n",
            "[3, 12000] loss: 1.015\n",
            "[4,  2000] loss: 0.921\n",
            "[4,  4000] loss: 0.911\n",
            "[4,  6000] loss: 0.926\n",
            "[4,  8000] loss: 0.904\n",
            "[4, 10000] loss: 0.943\n",
            "[4, 12000] loss: 0.926\n",
            "[5,  2000] loss: 0.798\n",
            "[5,  4000] loss: 0.805\n",
            "[5,  6000] loss: 0.828\n",
            "[5,  8000] loss: 0.832\n",
            "[5, 10000] loss: 0.850\n",
            "[5, 12000] loss: 0.849\n",
            "[6,  2000] loss: 0.742\n",
            "[6,  4000] loss: 0.726\n",
            "[6,  6000] loss: 0.738\n",
            "[6,  8000] loss: 0.757\n",
            "[6, 10000] loss: 0.760\n",
            "[6, 12000] loss: 0.774\n",
            "[7,  2000] loss: 0.646\n",
            "[7,  4000] loss: 0.686\n",
            "[7,  6000] loss: 0.671\n",
            "[7,  8000] loss: 0.673\n",
            "[7, 10000] loss: 0.699\n",
            "[7, 12000] loss: 0.706\n",
            "[8,  2000] loss: 0.573\n",
            "[8,  4000] loss: 0.587\n",
            "[8,  6000] loss: 0.590\n",
            "[8,  8000] loss: 0.615\n",
            "[8, 10000] loss: 0.631\n",
            "[8, 12000] loss: 0.656\n",
            "[9,  2000] loss: 0.511\n",
            "[9,  4000] loss: 0.515\n",
            "[9,  6000] loss: 0.549\n",
            "[9,  8000] loss: 0.556\n",
            "[9, 10000] loss: 0.570\n",
            "[9, 12000] loss: 0.596\n",
            "[10,  2000] loss: 0.462\n",
            "[10,  4000] loss: 0.479\n",
            "[10,  6000] loss: 0.490\n",
            "[10,  8000] loss: 0.512\n",
            "[10, 10000] loss: 0.542\n",
            "[10, 12000] loss: 0.535\n",
            "Finished Training\n"
          ],
          "name": "stdout"
        }
      ]
    },
    {
      "cell_type": "code",
      "metadata": {
        "id": "Eq0PtXt8gwTk",
        "outputId": "e8ee0a37-a736-4e7b-82ee-bd0ca4ffabfa",
        "colab": {
          "base_uri": "https://localhost:8080/",
          "height": 282
        }
      },
      "source": [
        "plt.plot(training_loss, label = 'Training Loss')"
      ],
      "execution_count": 219,
      "outputs": [
        {
          "output_type": "execute_result",
          "data": {
            "text/plain": [
              "[<matplotlib.lines.Line2D at 0x7f2872d72550>]"
            ]
          },
          "metadata": {
            "tags": []
          },
          "execution_count": 219
        },
        {
          "output_type": "display_data",
          "data": {
            "image/png": "[encoded data removed]",
            "text/plain": [
              "<Figure size 432x288 with 1 Axes>"
            ]
          },
          "metadata": {
            "tags": [],
            "needs_background": "light"
          }
        }
      ]
    },
    {
      "cell_type": "code",
      "metadata": {
        "id": "wwTgQLLkgwTt",
        "outputId": "20e30a7c-d684-47c2-f069-905f733fb5a4",
        "colab": {
          "base_uri": "https://localhost:8080/",
          "height": 34
        }
      },
      "source": [
        "total = 0\n",
        "correct = 0\n",
        "with torch.no_grad():\n",
        "    for data in testloader:\n",
        "        images, labels = data[0].to(device), data[1].to(device)\n",
        "        outputs = net2(images)\n",
        "        _, predicted = torch.max(outputs.data, 1)\n",
        "        total += labels.size(0)\n",
        "        correct += (predicted == labels).sum().item()\n",
        "\n",
        "print('Accuracy of the network on the 10000 test images: %d %%' % (100 * correct / total))"
      ],
      "execution_count": 220,
      "outputs": [
        {
          "output_type": "stream",
          "text": [
            "Accuracy of the network on the 10000 test images: 67 %\n"
          ],
          "name": "stdout"
        }
      ]
    },
    {
      "cell_type": "code",
      "metadata": {
        "id": "Z5KFncFSgwT2",
        "outputId": "5a2bd869-85e8-4695-fcfa-c43c3540044a",
        "colab": {
          "base_uri": "https://localhost:8080/",
          "height": 185
        }
      },
      "source": [
        "class_correct = list(0. for i in range(10))\n",
        "class_total = list(0. for i in range(10))\n",
        "with torch.no_grad():\n",
        "    for data in testloader:\n",
        "        images, labels = data[0].to(device), data[1].to(device)\n",
        "        outputs = net2(images)\n",
        "        _, predicted = torch.max(outputs, 1)\n",
        "        c = (predicted == labels).squeeze()\n",
        "        for i in range(4):\n",
        "            label = labels[i]\n",
        "            class_correct[label] += c[i].item()\n",
        "            class_total[label] += 1\n",
        "\n",
        "for i in range(10):\n",
        "    print('Accuracy of %5s : %2d %%' % (classes[i], 100 * class_correct[i] / class_total[i]))"
      ],
      "execution_count": 221,
      "outputs": [
        {
          "output_type": "stream",
          "text": [
            "Accuracy of plane : 79 %\n",
            "Accuracy of   car : 77 %\n",
            "Accuracy of  bird : 55 %\n",
            "Accuracy of   cat : 40 %\n",
            "Accuracy of  deer : 60 %\n",
            "Accuracy of   dog : 60 %\n",
            "Accuracy of  frog : 73 %\n",
            "Accuracy of horse : 75 %\n",
            "Accuracy of  ship : 79 %\n",
            "Accuracy of truck : 77 %\n"
          ],
          "name": "stdout"
        }
      ]
    },
    {
      "cell_type": "code",
      "metadata": {
        "id": "YIo2OHQ7yF80"
      },
      "source": [
        ""
      ],
      "execution_count": 221,
      "outputs": []
    }
  ]
}